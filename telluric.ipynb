{
 "cells": [
  {
   "cell_type": "code",
   "execution_count": 2,
   "metadata": {},
   "outputs": [],
   "source": [
    "import matplotlib.pyplot as plt\n",
    "import seaborn as sns\n",
    "import numpy as np\n",
    "import glob\n",
    "\n",
    "from astropy import units as u\n",
    "from astropy import constants as c\n",
    "from astropy.io import fits\n",
    "from astropy.table import Table\n",
    "\n",
    "%matplotlib inline\n",
    "\n",
    "sns.set(style=\"white\", context=\"talk\", palette=\"colorblind\", color_codes=True)"
   ]
  },
  {
   "cell_type": "markdown",
   "metadata": {},
   "source": [
    "# Inspecting the data"
   ]
  },
  {
   "cell_type": "markdown",
   "metadata": {},
   "source": [
    "###### filename breakdown example: LBL_A30_s0_w035_R_300000\n",
    "\n",
    "###### Line-by-Line_Airmass 3.0_s0_3.5mm of PWV (precitable water vapor)_R_resolution\n",
    "\n",
    "###### lam ranges from 0.3 to 30 um (300 - 30000 nm) (~ UVC - microwave)\n",
    "\n",
    "###### lam in base units of um"
   ]
  },
  {
   "cell_type": "code",
   "execution_count": 3,
   "metadata": {},
   "outputs": [],
   "source": [
    "with fits.open(\"./data/LBL_A10_s0_w200_R0300000_T.fits\") as hdu:\n",
    "    data = hdu[1].data"
   ]
  },
  {
   "cell_type": "markdown",
   "metadata": {},
   "source": [
    "## Entire sample spectra"
   ]
  },
  {
   "cell_type": "code",
   "execution_count": 4,
   "metadata": {},
   "outputs": [
    {
     "data": {
      "text/html": [
       "<div>\n",
       "<style scoped>\n",
       "    .dataframe tbody tr th:only-of-type {\n",
       "        vertical-align: middle;\n",
       "    }\n",
       "\n",
       "    .dataframe tbody tr th {\n",
       "        vertical-align: top;\n",
       "    }\n",
       "\n",
       "    .dataframe thead th {\n",
       "        text-align: right;\n",
       "    }\n",
       "</style>\n",
       "<table border=\"1\" class=\"dataframe\">\n",
       "  <thead>\n",
       "    <tr style=\"text-align: right;\">\n",
       "      <th></th>\n",
       "      <th>lam</th>\n",
       "      <th>trans</th>\n",
       "      <th>mnstrans</th>\n",
       "      <th>plstrans</th>\n",
       "    </tr>\n",
       "  </thead>\n",
       "  <tbody>\n",
       "    <tr>\n",
       "      <th>0</th>\n",
       "      <td>0.300000</td>\n",
       "      <td>0.000000e+00</td>\n",
       "      <td>0.000000e+00</td>\n",
       "      <td>0.000000e+00</td>\n",
       "    </tr>\n",
       "    <tr>\n",
       "      <th>1</th>\n",
       "      <td>0.300001</td>\n",
       "      <td>0.000000e+00</td>\n",
       "      <td>0.000000e+00</td>\n",
       "      <td>0.000000e+00</td>\n",
       "    </tr>\n",
       "    <tr>\n",
       "      <th>2</th>\n",
       "      <td>0.300002</td>\n",
       "      <td>0.000000e+00</td>\n",
       "      <td>0.000000e+00</td>\n",
       "      <td>0.000000e+00</td>\n",
       "    </tr>\n",
       "    <tr>\n",
       "      <th>3</th>\n",
       "      <td>0.300003</td>\n",
       "      <td>0.000000e+00</td>\n",
       "      <td>0.000000e+00</td>\n",
       "      <td>0.000000e+00</td>\n",
       "    </tr>\n",
       "    <tr>\n",
       "      <th>4</th>\n",
       "      <td>0.300004</td>\n",
       "      <td>0.000000e+00</td>\n",
       "      <td>0.000000e+00</td>\n",
       "      <td>0.000000e+00</td>\n",
       "    </tr>\n",
       "    <tr>\n",
       "      <th>...</th>\n",
       "      <td>...</td>\n",
       "      <td>...</td>\n",
       "      <td>...</td>\n",
       "      <td>...</td>\n",
       "    </tr>\n",
       "    <tr>\n",
       "      <th>1381549</th>\n",
       "      <td>29.999564</td>\n",
       "      <td>4.022928e-42</td>\n",
       "      <td>4.022928e-42</td>\n",
       "      <td>4.022928e-42</td>\n",
       "    </tr>\n",
       "    <tr>\n",
       "      <th>1381550</th>\n",
       "      <td>29.999664</td>\n",
       "      <td>4.290776e-42</td>\n",
       "      <td>4.290776e-42</td>\n",
       "      <td>4.290776e-42</td>\n",
       "    </tr>\n",
       "    <tr>\n",
       "      <th>1381551</th>\n",
       "      <td>29.999764</td>\n",
       "      <td>4.570335e-42</td>\n",
       "      <td>4.570335e-42</td>\n",
       "      <td>4.570335e-42</td>\n",
       "    </tr>\n",
       "    <tr>\n",
       "      <th>1381552</th>\n",
       "      <td>29.999864</td>\n",
       "      <td>4.867680e-42</td>\n",
       "      <td>4.867680e-42</td>\n",
       "      <td>4.867680e-42</td>\n",
       "    </tr>\n",
       "    <tr>\n",
       "      <th>1381553</th>\n",
       "      <td>29.999964</td>\n",
       "      <td>5.188007e-42</td>\n",
       "      <td>5.188007e-42</td>\n",
       "      <td>5.188007e-42</td>\n",
       "    </tr>\n",
       "  </tbody>\n",
       "</table>\n",
       "<p>1381554 rows × 4 columns</p>\n",
       "</div>"
      ],
      "text/plain": [
       "               lam         trans      mnstrans      plstrans\n",
       "0         0.300000  0.000000e+00  0.000000e+00  0.000000e+00\n",
       "1         0.300001  0.000000e+00  0.000000e+00  0.000000e+00\n",
       "2         0.300002  0.000000e+00  0.000000e+00  0.000000e+00\n",
       "3         0.300003  0.000000e+00  0.000000e+00  0.000000e+00\n",
       "4         0.300004  0.000000e+00  0.000000e+00  0.000000e+00\n",
       "...            ...           ...           ...           ...\n",
       "1381549  29.999564  4.022928e-42  4.022928e-42  4.022928e-42\n",
       "1381550  29.999664  4.290776e-42  4.290776e-42  4.290776e-42\n",
       "1381551  29.999764  4.570335e-42  4.570335e-42  4.570335e-42\n",
       "1381552  29.999864  4.867680e-42  4.867680e-42  4.867680e-42\n",
       "1381553  29.999964  5.188007e-42  5.188007e-42  5.188007e-42\n",
       "\n",
       "[1381554 rows x 4 columns]"
      ]
     },
     "metadata": {},
     "output_type": "display_data"
    },
    {
     "data": {
      "text/html": [
       "<div>\n",
       "<style scoped>\n",
       "    .dataframe tbody tr th:only-of-type {\n",
       "        vertical-align: middle;\n",
       "    }\n",
       "\n",
       "    .dataframe tbody tr th {\n",
       "        vertical-align: top;\n",
       "    }\n",
       "\n",
       "    .dataframe thead th {\n",
       "        text-align: right;\n",
       "    }\n",
       "</style>\n",
       "<table border=\"1\" class=\"dataframe\">\n",
       "  <thead>\n",
       "    <tr style=\"text-align: right;\">\n",
       "      <th></th>\n",
       "      <th>lam</th>\n",
       "      <th>trans</th>\n",
       "      <th>mnstrans</th>\n",
       "      <th>plstrans</th>\n",
       "    </tr>\n",
       "  </thead>\n",
       "  <tbody>\n",
       "    <tr>\n",
       "      <th>count</th>\n",
       "      <td>1.381554e+06</td>\n",
       "      <td>1.381554e+06</td>\n",
       "      <td>1.381554e+06</td>\n",
       "      <td>1.381554e+06</td>\n",
       "    </tr>\n",
       "    <tr>\n",
       "      <th>mean</th>\n",
       "      <td>6.449273e+00</td>\n",
       "      <td>5.196543e-01</td>\n",
       "      <td>5.196543e-01</td>\n",
       "      <td>5.196543e-01</td>\n",
       "    </tr>\n",
       "    <tr>\n",
       "      <th>std</th>\n",
       "      <td>7.490891e+00</td>\n",
       "      <td>4.395209e-01</td>\n",
       "      <td>4.395209e-01</td>\n",
       "      <td>4.395209e-01</td>\n",
       "    </tr>\n",
       "    <tr>\n",
       "      <th>min</th>\n",
       "      <td>3.000000e-01</td>\n",
       "      <td>0.000000e+00</td>\n",
       "      <td>0.000000e+00</td>\n",
       "      <td>0.000000e+00</td>\n",
       "    </tr>\n",
       "    <tr>\n",
       "      <th>25%</th>\n",
       "      <td>9.486830e-01</td>\n",
       "      <td>4.651063e-06</td>\n",
       "      <td>4.651063e-06</td>\n",
       "      <td>4.651063e-06</td>\n",
       "    </tr>\n",
       "    <tr>\n",
       "      <th>50%</th>\n",
       "      <td>2.999998e+00</td>\n",
       "      <td>6.826737e-01</td>\n",
       "      <td>6.826737e-01</td>\n",
       "      <td>6.826737e-01</td>\n",
       "    </tr>\n",
       "    <tr>\n",
       "      <th>75%</th>\n",
       "      <td>9.486824e+00</td>\n",
       "      <td>9.755292e-01</td>\n",
       "      <td>9.755292e-01</td>\n",
       "      <td>9.755292e-01</td>\n",
       "    </tr>\n",
       "    <tr>\n",
       "      <th>max</th>\n",
       "      <td>2.999996e+01</td>\n",
       "      <td>1.000002e+00</td>\n",
       "      <td>1.000002e+00</td>\n",
       "      <td>1.000002e+00</td>\n",
       "    </tr>\n",
       "  </tbody>\n",
       "</table>\n",
       "</div>"
      ],
      "text/plain": [
       "                lam         trans      mnstrans      plstrans\n",
       "count  1.381554e+06  1.381554e+06  1.381554e+06  1.381554e+06\n",
       "mean   6.449273e+00  5.196543e-01  5.196543e-01  5.196543e-01\n",
       "std    7.490891e+00  4.395209e-01  4.395209e-01  4.395209e-01\n",
       "min    3.000000e-01  0.000000e+00  0.000000e+00  0.000000e+00\n",
       "25%    9.486830e-01  4.651063e-06  4.651063e-06  4.651063e-06\n",
       "50%    2.999998e+00  6.826737e-01  6.826737e-01  6.826737e-01\n",
       "75%    9.486824e+00  9.755292e-01  9.755292e-01  9.755292e-01\n",
       "max    2.999996e+01  1.000002e+00  1.000002e+00  1.000002e+00"
      ]
     },
     "metadata": {},
     "output_type": "display_data"
    }
   ],
   "source": [
    "# `to_pandas` avoids \"endianness\" bug `DataFrame(data)` would hit\n",
    "# https://github.com/astropy/astropy/issues/1156\n",
    "df_all = Table(data).to_pandas()\n",
    "display(df_all)\n",
    "display(df_all.describe())"
   ]
  },
  {
   "cell_type": "markdown",
   "metadata": {},
   "source": [
    "## Section of spectra"
   ]
  },
  {
   "cell_type": "markdown",
   "metadata": {},
   "source": [
    "#### Using a section of the spectra for now will speed up tests"
   ]
  },
  {
   "cell_type": "code",
   "execution_count": 5,
   "metadata": {},
   "outputs": [
    {
     "data": {
      "text/html": [
       "<div>\n",
       "<style scoped>\n",
       "    .dataframe tbody tr th:only-of-type {\n",
       "        vertical-align: middle;\n",
       "    }\n",
       "\n",
       "    .dataframe tbody tr th {\n",
       "        vertical-align: top;\n",
       "    }\n",
       "\n",
       "    .dataframe thead th {\n",
       "        text-align: right;\n",
       "    }\n",
       "</style>\n",
       "<table border=\"1\" class=\"dataframe\">\n",
       "  <thead>\n",
       "    <tr style=\"text-align: right;\">\n",
       "      <th></th>\n",
       "      <th>lam</th>\n",
       "      <th>trans</th>\n",
       "      <th>mnstrans</th>\n",
       "      <th>plstrans</th>\n",
       "    </tr>\n",
       "  </thead>\n",
       "  <tbody>\n",
       "    <tr>\n",
       "      <th>93713</th>\n",
       "      <td>0.410001</td>\n",
       "      <td>0.999942</td>\n",
       "      <td>0.999942</td>\n",
       "      <td>0.999942</td>\n",
       "    </tr>\n",
       "    <tr>\n",
       "      <th>93714</th>\n",
       "      <td>0.410002</td>\n",
       "      <td>0.999942</td>\n",
       "      <td>0.999942</td>\n",
       "      <td>0.999942</td>\n",
       "    </tr>\n",
       "    <tr>\n",
       "      <th>93715</th>\n",
       "      <td>0.410003</td>\n",
       "      <td>0.999942</td>\n",
       "      <td>0.999942</td>\n",
       "      <td>0.999942</td>\n",
       "    </tr>\n",
       "    <tr>\n",
       "      <th>93716</th>\n",
       "      <td>0.410005</td>\n",
       "      <td>0.999942</td>\n",
       "      <td>0.999942</td>\n",
       "      <td>0.999942</td>\n",
       "    </tr>\n",
       "    <tr>\n",
       "      <th>93717</th>\n",
       "      <td>0.410006</td>\n",
       "      <td>0.999942</td>\n",
       "      <td>0.999942</td>\n",
       "      <td>0.999942</td>\n",
       "    </tr>\n",
       "    <tr>\n",
       "      <th>...</th>\n",
       "      <td>...</td>\n",
       "      <td>...</td>\n",
       "      <td>...</td>\n",
       "      <td>...</td>\n",
       "    </tr>\n",
       "    <tr>\n",
       "      <th>104488</th>\n",
       "      <td>0.424994</td>\n",
       "      <td>0.999689</td>\n",
       "      <td>0.999689</td>\n",
       "      <td>0.999689</td>\n",
       "    </tr>\n",
       "    <tr>\n",
       "      <th>104489</th>\n",
       "      <td>0.424995</td>\n",
       "      <td>0.999689</td>\n",
       "      <td>0.999689</td>\n",
       "      <td>0.999689</td>\n",
       "    </tr>\n",
       "    <tr>\n",
       "      <th>104490</th>\n",
       "      <td>0.424997</td>\n",
       "      <td>0.999689</td>\n",
       "      <td>0.999689</td>\n",
       "      <td>0.999689</td>\n",
       "    </tr>\n",
       "    <tr>\n",
       "      <th>104491</th>\n",
       "      <td>0.424998</td>\n",
       "      <td>0.999689</td>\n",
       "      <td>0.999689</td>\n",
       "      <td>0.999689</td>\n",
       "    </tr>\n",
       "    <tr>\n",
       "      <th>104492</th>\n",
       "      <td>0.425000</td>\n",
       "      <td>0.999689</td>\n",
       "      <td>0.999689</td>\n",
       "      <td>0.999689</td>\n",
       "    </tr>\n",
       "  </tbody>\n",
       "</table>\n",
       "<p>10780 rows × 4 columns</p>\n",
       "</div>"
      ],
      "text/plain": [
       "             lam     trans  mnstrans  plstrans\n",
       "93713   0.410001  0.999942  0.999942  0.999942\n",
       "93714   0.410002  0.999942  0.999942  0.999942\n",
       "93715   0.410003  0.999942  0.999942  0.999942\n",
       "93716   0.410005  0.999942  0.999942  0.999942\n",
       "93717   0.410006  0.999942  0.999942  0.999942\n",
       "...          ...       ...       ...       ...\n",
       "104488  0.424994  0.999689  0.999689  0.999689\n",
       "104489  0.424995  0.999689  0.999689  0.999689\n",
       "104490  0.424997  0.999689  0.999689  0.999689\n",
       "104491  0.424998  0.999689  0.999689  0.999689\n",
       "104492  0.425000  0.999689  0.999689  0.999689\n",
       "\n",
       "[10780 rows x 4 columns]"
      ]
     },
     "execution_count": 5,
     "metadata": {},
     "output_type": "execute_result"
    }
   ],
   "source": [
    "df = df_all.query(\"0.41 <= lam <= 0.425\")\n",
    "df"
   ]
  },
  {
   "cell_type": "code",
   "execution_count": 7,
   "metadata": {},
   "outputs": [
    {
     "data": {
      "text/plain": [
       "Text(0.5, 1.0, 'Airmass 1.0')"
      ]
     },
     "execution_count": 7,
     "metadata": {},
     "output_type": "execute_result"
    },
    {
     "data": {
      "image/png": "[encoded data removed]",
      "text/plain": [
       "<Figure size 432x288 with 1 Axes>"
      ]
     },
     "metadata": {},
     "output_type": "display_data"
    }
   ],
   "source": [
    "# just using 410 - 420 nanometers for now\n",
    "plt.plot(df.lam*1E3, df.trans)\n",
    "\n",
    "plt.title('Airmass 1.0')"
   ]
  },
  {
   "cell_type": "code",
   "execution_count": 15,
   "metadata": {},
   "outputs": [
    {
     "data": {
      "text/plain": [
       "<AxesSubplot:xlabel='lam', ylabel='f'>"
      ]
     },
     "execution_count": 15,
     "metadata": {},
     "output_type": "execute_result"
    },
    {
     "data": {
      "image/png": "[encoded data removed]",
      "text/plain": [
       "<Figure size 432x288 with 1 Axes>"
      ]
     },
     "metadata": {},
     "output_type": "display_data"
    }
   ],
   "source": [
    "df.plot(\"lam\", \"trans\", ylabel=\"f\", label=\"A10\")"
   ]
  },
  {
   "cell_type": "markdown",
   "metadata": {},
   "source": [
    "# Generalizing to multiple spectra now"
   ]
  },
  {
   "cell_type": "markdown",
   "metadata": {},
   "source": [
    "## To make a time series, the same library with different airmasses will be used to simulate the amount of water vapor changing with time. \n",
    "## The mm of water vapor will remain set at 20 mm for now for each airmass."
   ]
  },
  {
   "cell_type": "code",
   "execution_count": null,
   "metadata": {},
   "outputs": [],
   "source": [
    "pathnames = glob.glob('./data/*')"
   ]
  },
  {
   "cell_type": "code",
   "execution_count": null,
   "metadata": {},
   "outputs": [],
   "source": [
    "# Will hold airmass 1.0 ... 3.0\n",
    "lam_list   = []\n",
    "trans_list = []\n",
    "\n",
    "# holds binned values\n",
    "lam_bin_list   = [] # [am=1.0, am=1.5, ..., am=3.0]\n",
    "trans_bin_list = []\n",
    "\n",
    "for i in pathnames:\n",
    "    hdu_list = fits.open(i)\n",
    "    hdu_data = hdu_list[1].data\n",
    "    hdu_list.close()\n",
    "    \n",
    "    lam   = hdu_data['lam']\n",
    "    trans = hdu_data['trans']\n",
    "    \n",
    "    lam_list.append(lam)\n",
    "    trans_list.append(trans)\n",
    "    \n",
    "    # just cut out a piece to analyze for now\n",
    "    lam_bin = lam[(0.41 <= lam) & (lam <= 0.425)]\n",
    "    trans_bin = trans[(0.41 <= lam) & (lam <= 0.425)] \n",
    "    \n",
    "    lam_bin_list.append(lam_bin)\n",
    "    trans_bin_list.append(trans_bin)"
   ]
  },
  {
   "cell_type": "markdown",
   "metadata": {},
   "source": [
    "## Here is what the five different airmasses being used look like relative to each other for this set window"
   ]
  },
  {
   "cell_type": "code",
   "execution_count": null,
   "metadata": {},
   "outputs": [],
   "source": [
    "am_list = [1.0, 1.5, 2.0, 2.5, 3.0]\n",
    "for i,j in enumerate(reversed(am_list)): # to make overlapping easier to see\n",
    "    i=i+1\n",
    "    plt.plot(lam_bin_list[-i]*1E3, trans_bin_list[-i], label='airmass %.1f' % j)\n",
    "    \n",
    "plt.legend(loc='best')\n",
    "#plt.ylim(0.998, 1)\n",
    "#plt.xlim(410, 415)\n",
    "\n",
    "plt.xlabel(r'$\\lambda$ (nm)')\n",
    "plt.ylabel('normalized transmission')\n",
    "\n",
    "#plt.savefig('./figures/spectra_stack.pdf')"
   ]
  },
  {
   "cell_type": "markdown",
   "metadata": {},
   "source": [
    "## Next, binnes within this window for one of the airmasses will be setup\n",
    "## to investigate the stdev and average flux as a function of binsize.\n",
    "## The left side of the bin will be anchored at 410nm and extended to the right side "
   ]
  },
  {
   "cell_type": "code",
   "execution_count": null,
   "metadata": {},
   "outputs": [],
   "source": [
    "bin_num = 100\n",
    "bin_intv = ((425 - 410) / bin_num) * u.nm\n",
    "# holds corresponding binright -> wavelength\n",
    "wav_list = np.arange(410 + bin_intv.value, 425 + bin_intv.value, bin_intv.value) * u.nm\n",
    "trans_n = trans_list[0] # will be randomized later\n",
    "\n",
    "flux_avg_list = []\n",
    "stdev_list = []\n",
    "binright = 0\n",
    "for i in range(bin_num):\n",
    "    binright += bin_intv\n",
    "    trans_bin = trans_n[(0.41 <= lam) & (lam <= 0.41 + binright.to('micrometer').value)]\n",
    "    \n",
    "    # store stats\n",
    "    flux_avg_list.append(np.mean(trans_bin))\n",
    "    stdev_list.append(np.std(trans_bin))"
   ]
  },
  {
   "cell_type": "markdown",
   "metadata": {},
   "source": [
    "## Average flux vs binsize"
   ]
  },
  {
   "cell_type": "code",
   "execution_count": null,
   "metadata": {},
   "outputs": [],
   "source": [
    "plt.plot(wav_list, flux_avg_list)\n",
    "\n",
    "plt.xlabel('bin right side (nm)')\n",
    "plt.ylabel('normalized average flux')"
   ]
  },
  {
   "cell_type": "markdown",
   "metadata": {},
   "source": [
    "## Flux standard deviation vs binsize"
   ]
  },
  {
   "cell_type": "code",
   "execution_count": null,
   "metadata": {},
   "outputs": [],
   "source": [
    "plt.plot(wav_list, stdev_list, 'r-')\n",
    "\n",
    "plt.xlabel('bin right side (nm)')\n",
    "plt.ylabel('normalized flux stdev')"
   ]
  },
  {
   "cell_type": "markdown",
   "metadata": {},
   "source": [
    "## Now, for 50 randomly choses airmasses (times), stdev over time will be plotted for each binsize"
   ]
  },
  {
   "cell_type": "code",
   "execution_count": null,
   "metadata": {},
   "outputs": [],
   "source": [
    "import random "
   ]
  },
  {
   "cell_type": "code",
   "execution_count": null,
   "metadata": {},
   "outputs": [],
   "source": [
    "# creat list of random spectra sliced to preset window\n",
    "N = 50\n",
    "bin_num = 100\n",
    "bin_intv = ((425 - 410) / bin_num) * u.nm\n",
    "\n",
    "trans_time_series = []\n",
    "for i in range(N):\n",
    "    trans_n = random.choice(trans_list) # pick random spectra from list of 5 (airmasses)\n",
    "    trans_bin = trans_n[(0.41 <= lam) & (lam <= 0.425)] # just in window\n",
    "    trans_time_series.append(trans_bin)"
   ]
  },
  {
   "cell_type": "code",
   "execution_count": null,
   "metadata": {},
   "outputs": [],
   "source": [
    "bin_num = 100\n",
    "bin_intv = ((425 - 410) / bin_num) * u.nm\n",
    "lam = lam[(0.41 <= lam) & (lam <= 0.425)] # reduce to window\n",
    "\n",
    "flux_avg_list_binsize = []\n",
    "stdev_list_binsize = []\n",
    "binright = 0\n",
    "for i in range(bin_num):\n",
    "    flux_avg_list = [] # reset for next binsize\n",
    "    stdev_list = []\n",
    "    binright += bin_intv # set current bin\n",
    "    \n",
    "    for trans_n in trans_time_series:\n",
    "        trans_bin = trans_n[(0.41 <= lam) & (lam <= 0.41 + binright.to('micrometer').value)] \n",
    "        # store stats over time \n",
    "        flux_avg_list.append(np.mean(trans_bin))\n",
    "        stdev_list.append(np.std(trans_bin))\n",
    "    \n",
    "    # store the per time stats, per binsize\n",
    "    flux_avg_list_binsize.append(flux_avg_list)\n",
    "    stdev_list_binsize.append(stdev_list)"
   ]
  },
  {
   "cell_type": "markdown",
   "metadata": {},
   "source": [
    "## Plots"
   ]
  },
  {
   "cell_type": "code",
   "execution_count": null,
   "metadata": {},
   "outputs": [],
   "source": [
    "alph = 0\n",
    "for i in flux_avg_list_binsize:\n",
    "    plt.plot(i, alpha=alph, c='violet', linewidth=0.5)\n",
    "    alph += 1 / bin_num\n",
    "\n",
    "#plt.ylim(1E-6, 10**(-3.5))\n",
    "\n",
    "plt.xlabel('time (arbitrary units)')\n",
    "plt.ylabel('normalized mean flux')\n",
    "\n",
    "#plt.savefig('./figures/meanflux_timeseries.pdf')"
   ]
  },
  {
   "cell_type": "code",
   "execution_count": null,
   "metadata": {
    "scrolled": false
   },
   "outputs": [],
   "source": [
    "alph = 0\n",
    "for i in stdev_list_binsize:\n",
    "    alph += .4 / bin_num\n",
    "    plt.semilogy(i, alpha=alph, c='b', lw = 0.5)\n",
    "\n",
    "plt.ylim(1E-6, 10**(-3.5))\n",
    "\n",
    "plt.xlabel('time (arbitrary units)')\n",
    "plt.ylabel('normalized flux standard deviation')\n",
    "\n",
    "#plt.savefig('./figures/stdev_timeseries.pdf')"
   ]
  },
  {
   "cell_type": "markdown",
   "metadata": {},
   "source": [
    "### Standard Deviation vs Binsize"
   ]
  },
  {
   "cell_type": "markdown",
   "metadata": {},
   "source": [
    "This is a slightly different way of looking at the data. For a given wavelength bin, there is a\n",
    "list of airmasses (50 in this case). Each of those airmasses will have some number of fluxes. The\n",
    "data will first be collapsed (averaged) for each respective airmass so that there is one \n",
    "representative wavelength at each airmass (time), for that given bin. The standard deviation within\n",
    "that bin can then be plotted against the binsize. "
   ]
  },
  {
   "cell_type": "code",
   "execution_count": null,
   "metadata": {},
   "outputs": [],
   "source": [
    "bin_num = 100\n",
    "bin_intv = ((425 - 410) / bin_num) * u.nm\n",
    "lam_window = lam[(0.41 <= lam) & (lam <= 0.425)] # reduce to window\n",
    "\n",
    "stdev_list_binsize = []\n",
    "bin_list = []\n",
    "binright = 0 \n",
    "for i in range(bin_num):\n",
    "    flux_avg_list = [] # reset for next binsize\n",
    "    stdev_list = []\n",
    "    binright += (bin_intv.to('micrometer')).value # set current bin\n",
    "    bin_list.append(binright)\n",
    "    for trans_n in trans_time_series:\n",
    "        trans_bin = trans_n[(0.41 <= lam_window) & (lam_window <= 0.41 + binright)] \n",
    "        # store stats over time \n",
    "        flux_avg_list.append(np.mean(trans_bin))\n",
    "    \n",
    "    stdev_list_binsize.append(np.std(flux_avg_list))"
   ]
  },
  {
   "cell_type": "code",
   "execution_count": null,
   "metadata": {},
   "outputs": [],
   "source": [
    "bin_size = (bin_list * u.micrometer).to('nm')\n",
    "sigma = np.array(stdev_list_binsize)"
   ]
  },
  {
   "cell_type": "code",
   "execution_count": null,
   "metadata": {},
   "outputs": [],
   "source": [
    "f, (ax1, ax2) = plt.subplots(2, 1, sharex=True)\n",
    "\n",
    "ax1.plot(wav_list, sigma * 1E6)\n",
    "ax1.set_ylabel(r'$\\sigma$ (ppm)')\n",
    "\n",
    "ax2.plot(lam_bin_list[0]*1E3, trans_bin_list[0])\n",
    "ax2.set_ylabel('sample normalized flux')\n",
    "ax2.set_xlabel('bin rightside coordinate (nm)')\n",
    "\n",
    "#plt.savefig('/Users/KIWI/Desktop/temp.png', dpi=500)"
   ]
  }
 ],
 "metadata": {
  "anaconda-cloud": {},
  "kernelspec": {
   "display_name": "Python 3",
   "language": "python",
   "name": "python3"
  },
  "language_info": {
   "codemirror_mode": {
    "name": "ipython",
    "version": 3
   },
   "file_extension": ".py",
   "mimetype": "text/x-python",
   "name": "python",
   "nbconvert_exporter": "python",
   "pygments_lexer": "ipython3",
   "version": "3.9.4"
  },
  "toc": {
   "base_numbering": 1,
   "nav_menu": {
    "height": "333px",
    "width": "270px"
   },
   "number_sections": false,
   "sideBar": false,
   "skip_h1_title": false,
   "title_cell": "Table of Contents",
   "title_sidebar": "Contents",
   "toc_cell": false,
   "toc_position": {},
   "toc_section_display": false,
   "toc_window_display": false
  }
 },
 "nbformat": 4,
 "nbformat_minor": 1
}
